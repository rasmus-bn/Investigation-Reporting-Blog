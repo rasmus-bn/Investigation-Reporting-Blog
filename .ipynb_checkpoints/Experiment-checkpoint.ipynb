{
 "cells": [
  {
   "cell_type": "code",
   "execution_count": 1,
   "metadata": {},
   "outputs": [
    {
     "name": "stdout",
     "output_type": "stream",
     "text": [
      "Populating the interactive namespace from numpy and matplotlib\n"
     ]
    }
   ],
   "source": [
    "%pylab inline\n",
    "import pandas as pd\n",
    "from sklearn.utils import resample\n",
    "from wordcloud import WordCloud\n",
    "from sklearn.model_selection import KFold\n",
    "from sklearn.model_selection import cross_val_score\n",
    "from sklearn.feature_extraction.text import TfidfVectorizer\n",
    "from sklearn.feature_extraction.text import CountVectorizer\n",
    "from sklearn.svm import SVC\n",
    "from sklearn.preprocessing import StandardScaler\n",
    "from sklearn.linear_model import LogisticRegression\n",
    "from sklearn.naive_bayes import GaussianNB\n",
    "from sklearn.naive_bayes import MultinomialNB\n",
    "from sklearn.pipeline import make_pipeline"
   ]
  },
  {
   "cell_type": "code",
   "execution_count": 2,
   "metadata": {},
   "outputs": [],
   "source": [
    "file_name='train.tsv'\n",
    "seperator = '\\t'\n",
    "X_clm_name='Sentiment'\n",
    "y_clm_name='Phrase'"
   ]
  },
  {
   "cell_type": "code",
   "execution_count": 3,
   "metadata": {},
   "outputs": [],
   "source": [
    "max_features = 4000\n",
    "ngram_range = (1,3)\n",
    "stopwords = None\n",
    "random_seed = 123"
   ]
  },
  {
   "cell_type": "code",
   "execution_count": 4,
   "metadata": {},
   "outputs": [
    {
     "name": "stderr",
     "output_type": "stream",
     "text": [
      "/home/dunkl/.local/lib/python3.6/site-packages/pandas/core/ops/__init__.py:1115: FutureWarning: elementwise comparison failed; returning scalar instead, but in the future will perform elementwise comparison\n",
      "  result = method(y)\n"
     ]
    },
    {
     "data": {
      "text/html": [
       "<div>\n",
       "<style scoped>\n",
       "    .dataframe tbody tr th:only-of-type {\n",
       "        vertical-align: middle;\n",
       "    }\n",
       "\n",
       "    .dataframe tbody tr th {\n",
       "        vertical-align: top;\n",
       "    }\n",
       "\n",
       "    .dataframe thead th {\n",
       "        text-align: right;\n",
       "    }\n",
       "</style>\n",
       "<table border=\"1\" class=\"dataframe\">\n",
       "  <thead>\n",
       "    <tr style=\"text-align: right;\">\n",
       "      <th></th>\n",
       "      <th>PhraseId</th>\n",
       "      <th>SentenceId</th>\n",
       "      <th>Phrase</th>\n",
       "      <th>Sentiment</th>\n",
       "    </tr>\n",
       "  </thead>\n",
       "  <tbody>\n",
       "    <tr>\n",
       "      <td>0</td>\n",
       "      <td>1</td>\n",
       "      <td>1</td>\n",
       "      <td>A series of escapades demonstrating the adage ...</td>\n",
       "      <td>1</td>\n",
       "    </tr>\n",
       "    <tr>\n",
       "      <td>1</td>\n",
       "      <td>2</td>\n",
       "      <td>1</td>\n",
       "      <td>A series of escapades demonstrating the adage ...</td>\n",
       "      <td>2</td>\n",
       "    </tr>\n",
       "    <tr>\n",
       "      <td>2</td>\n",
       "      <td>3</td>\n",
       "      <td>1</td>\n",
       "      <td>A series</td>\n",
       "      <td>2</td>\n",
       "    </tr>\n",
       "    <tr>\n",
       "      <td>3</td>\n",
       "      <td>4</td>\n",
       "      <td>1</td>\n",
       "      <td>A</td>\n",
       "      <td>2</td>\n",
       "    </tr>\n",
       "    <tr>\n",
       "      <td>4</td>\n",
       "      <td>5</td>\n",
       "      <td>1</td>\n",
       "      <td>series</td>\n",
       "      <td>2</td>\n",
       "    </tr>\n",
       "  </tbody>\n",
       "</table>\n",
       "</div>"
      ],
      "text/plain": [
       "   PhraseId  SentenceId                                             Phrase  \\\n",
       "0         1           1  A series of escapades demonstrating the adage ...   \n",
       "1         2           1  A series of escapades demonstrating the adage ...   \n",
       "2         3           1                                           A series   \n",
       "3         4           1                                                  A   \n",
       "4         5           1                                             series   \n",
       "\n",
       "   Sentiment  \n",
       "0          1  \n",
       "1          2  \n",
       "2          2  \n",
       "3          2  \n",
       "4          2  "
      ]
     },
     "execution_count": 4,
     "metadata": {},
     "output_type": "execute_result"
    }
   ],
   "source": [
    "df = pd.read_csv(file_name, sep=seperator)\n",
    "df = df[df[X_clm_name] != \"none\"]\n",
    "df = df[df[X_clm_name] != \"\"]\n",
    "df = df[df[X_clm_name].notna()]\n",
    "df = df[df[y_clm_name] != \"none\"]\n",
    "df = df[df[y_clm_name] != \"\"]\n",
    "df = df[df[y_clm_name].notna()]\n",
    "df.head()"
   ]
  },
  {
   "cell_type": "code",
   "execution_count": 5,
   "metadata": {},
   "outputs": [],
   "source": [
    "df = df[df[y_clm_name].str.len() <= 200]"
   ]
  },
  {
   "cell_type": "code",
   "execution_count": 6,
   "metadata": {},
   "outputs": [],
   "source": [
    "df[X_clm_name] = df.apply(lambda row: 1 \n",
    "                           if row[X_clm_name] >= 3 \n",
    "                           else 0, axis=1\n",
    "                          )"
   ]
  },
  {
   "cell_type": "code",
   "execution_count": 7,
   "metadata": {},
   "outputs": [
    {
     "data": {
      "text/plain": [
       "41783"
      ]
     },
     "execution_count": 7,
     "metadata": {},
     "output_type": "execute_result"
    }
   ],
   "source": [
    "positives = df[df[X_clm_name] == 1]\n",
    "positives.count()[0]"
   ]
  },
  {
   "cell_type": "code",
   "execution_count": 8,
   "metadata": {},
   "outputs": [
    {
     "data": {
      "text/plain": [
       "113578"
      ]
     },
     "execution_count": 8,
     "metadata": {},
     "output_type": "execute_result"
    }
   ],
   "source": [
    "negatives = df[df[X_clm_name] == 0]\n",
    "negatives.count()[0]"
   ]
  },
  {
   "cell_type": "code",
   "execution_count": 9,
   "metadata": {},
   "outputs": [
    {
     "data": {
      "text/plain": [
       "41783"
      ]
     },
     "execution_count": 9,
     "metadata": {},
     "output_type": "execute_result"
    }
   ],
   "source": [
    "n_samples = (negatives.count()[0] \n",
    "             if negatives.count()[0] < positives.count()[0] \n",
    "             else positives.count()[0]\n",
    "            )\n",
    "n_samples"
   ]
  },
  {
   "cell_type": "code",
   "execution_count": 10,
   "metadata": {},
   "outputs": [
    {
     "data": {
      "text/plain": [
       "41783"
      ]
     },
     "execution_count": 10,
     "metadata": {},
     "output_type": "execute_result"
    }
   ],
   "source": [
    "positives = resample(positives, n_samples=n_samples, random_state=random_seed)\n",
    "positives.count()[0]"
   ]
  },
  {
   "cell_type": "code",
   "execution_count": 11,
   "metadata": {},
   "outputs": [
    {
     "data": {
      "text/plain": [
       "41783"
      ]
     },
     "execution_count": 11,
     "metadata": {},
     "output_type": "execute_result"
    }
   ],
   "source": [
    "negatives = resample(negatives, n_samples=n_samples, random_state=random_seed)\n",
    "negatives.count()[0]"
   ]
  },
  {
   "cell_type": "code",
   "execution_count": 12,
   "metadata": {},
   "outputs": [
    {
     "data": {
      "text/plain": [
       "83566"
      ]
     },
     "execution_count": 12,
     "metadata": {},
     "output_type": "execute_result"
    }
   ],
   "source": [
    "df = negatives.append(positives)\n",
    "df.count()[0]"
   ]
  },
  {
   "cell_type": "code",
   "execution_count": 13,
   "metadata": {},
   "outputs": [],
   "source": [
    "kf = KFold(n_splits=10, shuffle=True, random_state=random_seed)\n",
    "y = df[X_clm_name]\n",
    "X_raw = df[y_clm_name]\n",
    "def do_cross_val(model, X):\n",
    "    acc_score = cross_val_score(\n",
    "        model, \n",
    "        X, \n",
    "        y, \n",
    "        cv=kf, \n",
    "        scoring='accuracy'\n",
    "    )\n",
    "    print('Accuracies:')\n",
    "    print(acc_score)\n",
    "    print('Mean accuracy:')\n",
    "    print(np.mean(acc_score))"
   ]
  },
  {
   "cell_type": "code",
   "execution_count": 14,
   "metadata": {},
   "outputs": [
    {
     "name": "stdout",
     "output_type": "stream",
     "text": [
      "time taken: 1.4952785968780518 seconds\n"
     ]
    }
   ],
   "source": [
    "tfidf = TfidfVectorizer(\n",
    "    lowercase=True, \n",
    "    stop_words=stopwords, \n",
    "    ngram_range=ngram_range,\n",
    "    max_features=max_features\n",
    ")\n",
    "\n",
    "start_time = time.time()\n",
    "\n",
    "X_tfidf = tfidf.fit_transform(X_raw)\n",
    "\n",
    "run_time = (time.time() - start_time)\n",
    "print(f'time taken: {run_time} seconds')"
   ]
  },
  {
   "cell_type": "code",
   "execution_count": 15,
   "metadata": {},
   "outputs": [
    {
     "name": "stdout",
     "output_type": "stream",
     "text": [
      "time taken: 1.4493730068206787 seconds\n"
     ]
    }
   ],
   "source": [
    "cv = CountVectorizer(\n",
    "    lowercase=True, \n",
    "    stop_words=stopwords, \n",
    "    ngram_range=ngram_range,\n",
    "    max_features=max_features\n",
    ")\n",
    "start_time = time.time()\n",
    "\n",
    "X_cv = cv.fit_transform(X_raw)\n",
    "\n",
    "run_time = (time.time() - start_time)\n",
    "print(f'time taken: {run_time} seconds')"
   ]
  },
  {
   "cell_type": "code",
   "execution_count": 16,
   "metadata": {},
   "outputs": [],
   "source": [
    "def do_cross_val_with_each_X(model):\n",
    "    start_time = time.time()\n",
    "    print(\"tfidf\")\n",
    "    do_cross_val(model, X_tfidf)\n",
    "    run_time = (time.time() - start_time)\n",
    "    print(f'time taken: {run_time} seconds\\n')\n",
    "    start_time = time.time()\n",
    "    print(\"cv\")\n",
    "    do_cross_val(model, X_cv)\n",
    "    run_time = (time.time() - start_time)\n",
    "    print(f'time taken: {run_time} seconds')"
   ]
  },
  {
   "cell_type": "code",
   "execution_count": 17,
   "metadata": {},
   "outputs": [
    {
     "name": "stdout",
     "output_type": "stream",
     "text": [
      "tfidf\n",
      "Accuracies:\n",
      "[0.78856049 0.79406486 0.79131267 0.79059471 0.79119301 0.78963743\n",
      " 0.79056965 0.78554332 0.79212542 0.78314983]\n",
      "Mean accuracy:\n",
      "0.7896751392631809\n",
      "time taken: 12.446320295333862 seconds\n",
      "\n",
      "cv\n",
      "Accuracies:\n",
      "[0.79310757 0.80172311 0.79538112 0.79071437 0.7951418  0.79358622\n",
      " 0.80026328 0.7898516  0.79499761 0.78745811]\n",
      "Mean accuracy:\n",
      "0.7942224790069157\n",
      "time taken: 13.14556336402893 seconds\n"
     ]
    }
   ],
   "source": [
    "lr = make_pipeline(\n",
    "    StandardScaler(with_mean=False), \n",
    "    LogisticRegression(random_state=random_seed, solver='liblinear', C=1))\n",
    "do_cross_val_with_each_X(lr)"
   ]
  },
  {
   "cell_type": "code",
   "execution_count": 18,
   "metadata": {},
   "outputs": [
    {
     "name": "stdout",
     "output_type": "stream",
     "text": [
      "tfidf\n",
      "Accuracies:\n",
      "[0.70336245 0.75972239 0.70479837 0.74452555 0.711619   0.74620079\n",
      " 0.75454763 0.75023935 0.75430828 0.70978937]\n",
      "Mean accuracy:\n",
      "0.7339113184711474\n",
      "time taken: 0.15871286392211914 seconds\n",
      "\n",
      "cv\n",
      "Accuracies:\n",
      "[0.69498624 0.74883331 0.6945076  0.73890152 0.69785808 0.73854254\n",
      " 0.74652944 0.73719483 0.7434179  0.70045476]\n",
      "Mean accuracy:\n",
      "0.7241226229141597\n",
      "time taken: 0.1645650863647461 seconds\n"
     ]
    }
   ],
   "source": [
    "mnb = MultinomialNB()\n",
    "do_cross_val_with_each_X(mnb)"
   ]
  },
  {
   "cell_type": "code",
   "execution_count": 19,
   "metadata": {},
   "outputs": [
    {
     "name": "stdout",
     "output_type": "stream",
     "text": [
      "tfidf\n",
      "Accuracies:\n",
      "[0.79406486 0.79765466 0.7939452  0.79238961 0.79669738 0.79203063\n",
      " 0.79212542 0.78602202 0.79487793 0.78482528]\n",
      "Mean accuracy:\n",
      "0.7924632984401848\n",
      "time taken: 4.039878606796265 seconds\n",
      "\n",
      "cv\n"
     ]
    },
    {
     "name": "stderr",
     "output_type": "stream",
     "text": [
      "/home/dunkl/.local/lib/python3.6/site-packages/sklearn/svm/base.py:929: ConvergenceWarning: Liblinear failed to converge, increase the number of iterations.\n",
      "  \"the number of iterations.\", ConvergenceWarning)\n"
     ]
    },
    {
     "name": "stdout",
     "output_type": "stream",
     "text": [
      "Accuracies:\n",
      "[0.79478282 0.80220175 0.79442384 0.79131267 0.79550078 0.79179131\n",
      " 0.79942556 0.79188607 0.79475826 0.78709909]\n",
      "Mean accuracy:\n",
      "0.7943182142991548\n",
      "time taken: 57.48005247116089 seconds\n"
     ]
    }
   ],
   "source": [
    "from sklearn.svm import LinearSVC\n",
    "mnb = LinearSVC()\n",
    "do_cross_val_with_each_X(mnb)"
   ]
  },
  {
   "cell_type": "code",
   "execution_count": null,
   "metadata": {},
   "outputs": [],
   "source": []
  }
 ],
 "metadata": {
  "kernelspec": {
   "display_name": "Python 3",
   "language": "python",
   "name": "python3"
  },
  "language_info": {
   "codemirror_mode": {
    "name": "ipython",
    "version": 3
   },
   "file_extension": ".py",
   "mimetype": "text/x-python",
   "name": "python",
   "nbconvert_exporter": "python",
   "pygments_lexer": "ipython3",
   "version": "3.6.8"
  }
 },
 "nbformat": 4,
 "nbformat_minor": 2
}
