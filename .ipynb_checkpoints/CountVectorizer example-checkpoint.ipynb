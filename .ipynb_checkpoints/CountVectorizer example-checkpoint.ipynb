{
 "cells": [
  {
   "cell_type": "code",
   "execution_count": 14,
   "metadata": {},
   "outputs": [
    {
     "name": "stdout",
     "output_type": "stream",
     "text": [
      "['a', 'but', 'is', 'not', 'rose', 'tulip']\n",
      "[4 1 2 1 3 1]\n"
     ]
    }
   ],
   "source": [
    "from sklearn.feature_extraction.text import CountVectorizer\n",
    "train_set = (\"A rose is a rose is a rose but not a tulip\",)\n",
    "\n",
    "cv = CountVectorizer(stop_words=None, token_pattern=u\"(?u)\\\\b\\\\w+\\\\b\")\n",
    "cv_fit = cv.fit_transform(train_set)\n",
    "print(cv.get_feature_names())\n",
    "print(cv_fit.toarray()[0])"
   ]
  }
 ],
 "metadata": {
  "kernelspec": {
   "display_name": "Python 3",
   "language": "python",
   "name": "python3"
  },
  "language_info": {
   "codemirror_mode": {
    "name": "ipython",
    "version": 3
   },
   "file_extension": ".py",
   "mimetype": "text/x-python",
   "name": "python",
   "nbconvert_exporter": "python",
   "pygments_lexer": "ipython3",
   "version": "3.6.7"
  }
 },
 "nbformat": 4,
 "nbformat_minor": 2
}
