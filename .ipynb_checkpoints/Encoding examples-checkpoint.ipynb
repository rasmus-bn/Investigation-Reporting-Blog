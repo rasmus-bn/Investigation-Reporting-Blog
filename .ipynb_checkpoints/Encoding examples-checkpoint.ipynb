{
 "cells": [
  {
   "cell_type": "code",
   "execution_count": 3,
   "metadata": {},
   "outputs": [],
   "source": [
    "import numbers\n",
    "def format_elements(arr):\n",
    "    out = ''\n",
    "    for i in arr:\n",
    "        i_str = i\n",
    "        if isinstance(i, numbers.Number):\n",
    "            i_str = f'{round(i, 2)}'\n",
    "        i_str = i_str.ljust(8, ' ')\n",
    "        out += i_str\n",
    "    return out"
   ]
  },
  {
   "cell_type": "code",
   "execution_count": 4,
   "metadata": {},
   "outputs": [
    {
     "name": "stdout",
     "output_type": "stream",
     "text": [
      "a       and     horse   is      look    not     rose    that    tulip   \n",
      "1       1       0       1       0       1       1       0       1       \n"
     ]
    }
   ],
   "source": [
    "from sklearn.feature_extraction.text import CountVectorizer\n",
    "corpus = [\n",
    "    \"Look. A rose\",\n",
    "    \"That is a rose not a tulip\",\n",
    "    \"A horse is a horse, and a rose is a rose\",\n",
    "    \"A horse is not a rose\",\n",
    "    \"A rose is not a horse\"\n",
    "]\n",
    "\n",
    "binary_BoW = CountVectorizer(stop_words=None, token_pattern=u\"(?u)\\\\b\\\\w+\\\\b\", binary=True)\n",
    "binary_BoW.fit(corpus)\n",
    "\n",
    "encoded_text = binary_BoW.transform([\"A rose is a rose is a rose, and not a tulip\",])\n",
    "\n",
    "print(format_elements(binary_BoW.get_feature_names()))\n",
    "print(format_elements(encoded_text.toarray()[0]))"
   ]
  },
  {
   "cell_type": "code",
   "execution_count": 5,
   "metadata": {},
   "outputs": [
    {
     "ename": "NameError",
     "evalue": "name 'cv' is not defined",
     "output_type": "error",
     "traceback": [
      "\u001b[0;31m---------------------------------------------------------------------------\u001b[0m",
      "\u001b[0;31mNameError\u001b[0m                                 Traceback (most recent call last)",
      "\u001b[0;32m<ipython-input-5-27aa343249b9>\u001b[0m in \u001b[0;36m<module>\u001b[0;34m()\u001b[0m\n\u001b[1;32m     11\u001b[0m \u001b[0mcount_based_BoW\u001b[0m\u001b[0;34m.\u001b[0m\u001b[0mfit\u001b[0m\u001b[0;34m(\u001b[0m\u001b[0mcorpus\u001b[0m\u001b[0;34m)\u001b[0m\u001b[0;34m\u001b[0m\u001b[0;34m\u001b[0m\u001b[0m\n\u001b[1;32m     12\u001b[0m \u001b[0;34m\u001b[0m\u001b[0m\n\u001b[0;32m---> 13\u001b[0;31m \u001b[0mcount_based_BoW_fit\u001b[0m \u001b[0;34m=\u001b[0m \u001b[0mcv\u001b[0m\u001b[0;34m.\u001b[0m\u001b[0mtransform\u001b[0m\u001b[0;34m(\u001b[0m\u001b[0;34m[\u001b[0m\u001b[0;34m\"A rose is a rose is a rose, and not a tulip\"\u001b[0m\u001b[0;34m,\u001b[0m\u001b[0;34m]\u001b[0m\u001b[0;34m)\u001b[0m\u001b[0;34m\u001b[0m\u001b[0;34m\u001b[0m\u001b[0m\n\u001b[0m\u001b[1;32m     14\u001b[0m \u001b[0;34m\u001b[0m\u001b[0m\n\u001b[1;32m     15\u001b[0m \u001b[0mprint\u001b[0m\u001b[0;34m(\u001b[0m\u001b[0mformat_elements\u001b[0m\u001b[0;34m(\u001b[0m\u001b[0mcount_based_BoW\u001b[0m\u001b[0;34m.\u001b[0m\u001b[0mget_feature_names\u001b[0m\u001b[0;34m(\u001b[0m\u001b[0;34m)\u001b[0m\u001b[0;34m)\u001b[0m\u001b[0;34m)\u001b[0m\u001b[0;34m\u001b[0m\u001b[0;34m\u001b[0m\u001b[0m\n",
      "\u001b[0;31mNameError\u001b[0m: name 'cv' is not defined"
     ]
    }
   ],
   "source": [
    "from sklearn.feature_extraction.text import CountVectorizer\n",
    "corpus = [\n",
    "    \"Look. A rose\",\n",
    "    \"That is a rose not a tulip\",\n",
    "    \"A horse is a horse, and a rose is a rose\",\n",
    "    \"A horse is not a rose\",\n",
    "    \"A rose is not a horse\"\n",
    "]\n",
    "\n",
    "count_based_BoW = CountVectorizer(stop_words=None, token_pattern=u\"(?u)\\\\b\\\\w+\\\\b\")\n",
    "count_based_BoW.fit(corpus)\n",
    "\n",
    "encoded_text = count_based_BoW.transform([\"A rose is a rose is a rose, and not a tulip\",])\n",
    "\n",
    "print(format_elements(count_based_BoW.get_feature_names()))\n",
    "print(format_elements(encoded_text.toarray()[0]))"
   ]
  },
  {
   "cell_type": "code",
   "execution_count": 4,
   "metadata": {},
   "outputs": [
    {
     "name": "stdout",
     "output_type": "stream",
     "text": [
      "a       and     horse   is      look    not     rose    that    tulip   \n",
      "0.62    0.33    0.0     0.37    0.0     0.22    0.47    0.0     0.33    \n"
     ]
    }
   ],
   "source": [
    "from sklearn.feature_extraction.text import TfidfVectorizer\n",
    "corpus = [\n",
    "    \"Look. A rose\",\n",
    "    \"That is a rose not a tulip\",\n",
    "    \"A horse is a horse, and a rose is a rose\",\n",
    "    \"A horse is not a rose\",\n",
    "    \"A rose is not a horse\"\n",
    "]\n",
    "\n",
    "tfidf_BoW = TfidfVectorizer(stop_words=None, token_pattern=u\"(?u)\\\\b\\\\w+\\\\b\")\n",
    "tfidf_BoW.fit(corpus)\n",
    "\n",
    "encoded_text = tfidf_BoW.transform([\"A rose is a rose is a rose, and not a tulip\",])\n",
    "\n",
    "print(format_elements(tfidf_BoW.get_feature_names()))\n",
    "print(format_elements(encoded_text.toarray()[0]))"
   ]
  },
  {
   "cell_type": "code",
   "execution_count": null,
   "metadata": {},
   "outputs": [],
   "source": []
  }
 ],
 "metadata": {
  "kernelspec": {
   "display_name": "Python 3",
   "language": "python",
   "name": "python3"
  },
  "language_info": {
   "codemirror_mode": {
    "name": "ipython",
    "version": 3
   },
   "file_extension": ".py",
   "mimetype": "text/x-python",
   "name": "python",
   "nbconvert_exporter": "python",
   "pygments_lexer": "ipython3",
   "version": "3.6.7"
  }
 },
 "nbformat": 4,
 "nbformat_minor": 2
}
