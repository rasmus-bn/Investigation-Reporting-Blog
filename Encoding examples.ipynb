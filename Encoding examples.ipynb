{
 "cells": [
  {
   "cell_type": "code",
   "execution_count": 1,
   "metadata": {},
   "outputs": [],
   "source": [
    "import numbers\n",
    "def format_elements(arr):\n",
    "    out = ''\n",
    "    for i in arr:\n",
    "        i_str = i\n",
    "        if isinstance(i, numbers.Number):\n",
    "            i_str = f'{round(i, 2)}'\n",
    "        i_str = i_str.ljust(8, ' ')\n",
    "        out += i_str\n",
    "    return out"
   ]
  },
  {
   "cell_type": "code",
   "execution_count": 2,
   "metadata": {},
   "outputs": [
    {
     "name": "stdout",
     "output_type": "stream",
     "text": [
      "a       and     horse   is      look    not     rose    that    tulip   \n",
      "1       1       0       1       0       1       1       0       1       \n"
     ]
    }
   ],
   "source": [
    "from sklearn.feature_extraction.text import CountVectorizer\n",
    "corpus = [\n",
    "    \"Look a rose\",\n",
    "    \"That is a rose not a tulip\",\n",
    "    \"A horse is a horse, and a rose is a rose\",\n",
    "    \"A horse is not a rose\",\n",
    "    \"A rose is not a horse\"\n",
    "]\n",
    "\n",
    "one_hot = CountVectorizer(stop_words=None, token_pattern=u\"(?u)\\\\b\\\\w+\\\\b\", binary=True)\n",
    "one_hot.fit(corpus)\n",
    "\n",
    "one_hot_fit = one_hot.transform([\"A rose is a rose is a rose, and not a tulip\",])\n",
    "\n",
    "print(format_elements(one_hot.get_feature_names()))\n",
    "print(format_elements(one_hot_fit.toarray()[0]))"
   ]
  },
  {
   "cell_type": "code",
   "execution_count": 3,
   "metadata": {},
   "outputs": [
    {
     "name": "stdout",
     "output_type": "stream",
     "text": [
      "a       and     horse   is      look    not     rose    that    tulip   \n",
      "4       1       0       2       0       1       3       0       1       \n"
     ]
    }
   ],
   "source": [
    "from sklearn.feature_extraction.text import CountVectorizer\n",
    "corpus = [\n",
    "    \"Look a rose\",\n",
    "    \"That is a rose not a tulip\",\n",
    "    \"A horse is a horse, and a rose is a rose\",\n",
    "    \"A horse is not a rose\",\n",
    "    \"A rose is not a horse\"\n",
    "]\n",
    "\n",
    "cv = CountVectorizer(stop_words=None, token_pattern=u\"(?u)\\\\b\\\\w+\\\\b\")\n",
    "cv.fit(corpus)\n",
    "\n",
    "cv_fit = cv.transform([\"A rose is a rose is a rose, and not a tulip\",])\n",
    "\n",
    "print(format_elements(cv.get_feature_names()))\n",
    "print(format_elements(cv_fit.toarray()[0]))"
   ]
  },
  {
   "cell_type": "code",
   "execution_count": 4,
   "metadata": {},
   "outputs": [
    {
     "name": "stdout",
     "output_type": "stream",
     "text": [
      "a       and     horse   is      look    not     rose    that    tulip   \n",
      "0.62    0.33    0.0     0.37    0.0     0.22    0.47    0.0     0.33    \n"
     ]
    }
   ],
   "source": [
    "from sklearn.feature_extraction.text import TfidfVectorizer\n",
    "corpus = [\n",
    "    \"Look a rose\",\n",
    "    \"That is a rose not a tulip\",\n",
    "    \"A horse is a horse, and a rose is a rose\",\n",
    "    \"A horse is not a rose\",\n",
    "    \"A rose is not a horse\"\n",
    "]\n",
    "\n",
    "tfidf = TfidfVectorizer(stop_words=None, token_pattern=u\"(?u)\\\\b\\\\w+\\\\b\")\n",
    "tfidf.fit(corpus)\n",
    "\n",
    "tfidf_fit = tfidf.transform([\"A rose is a rose is a rose, and not a tulip\",])\n",
    "\n",
    "print(format_elements(tfidf.get_feature_names()))\n",
    "print(format_elements(tfidf_fit.toarray()[0]))"
   ]
  },
  {
   "cell_type": "code",
   "execution_count": null,
   "metadata": {},
   "outputs": [],
   "source": []
  }
 ],
 "metadata": {
  "kernelspec": {
   "display_name": "Python 3",
   "language": "python",
   "name": "python3"
  },
  "language_info": {
   "codemirror_mode": {
    "name": "ipython",
    "version": 3
   },
   "file_extension": ".py",
   "mimetype": "text/x-python",
   "name": "python",
   "nbconvert_exporter": "python",
   "pygments_lexer": "ipython3",
   "version": "3.6.8"
  }
 },
 "nbformat": 4,
 "nbformat_minor": 2
}
