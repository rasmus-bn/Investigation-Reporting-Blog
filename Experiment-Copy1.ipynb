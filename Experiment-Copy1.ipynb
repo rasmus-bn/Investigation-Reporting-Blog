{
 "cells": [
  {
   "cell_type": "markdown",
   "metadata": {},
   "source": [
    "# Experiment with full dataset"
   ]
  },
  {
   "cell_type": "markdown",
   "metadata": {},
   "source": [
    "In order to run this project you will need following python libraries:\n",
    "\n",
    "* numpy \n",
    "* scipy\n",
    "* pandas\n",
    "* sklearn"
   ]
  },
  {
   "cell_type": "code",
   "execution_count": 1,
   "metadata": {},
   "outputs": [
    {
     "name": "stdout",
     "output_type": "stream",
     "text": [
      "Populating the interactive namespace from numpy and matplotlib\n"
     ]
    }
   ],
   "source": [
    "%pylab inline\n",
    "import pandas as pd\n",
    "from sklearn.utils import resample\n",
    "from sklearn.model_selection import KFold\n",
    "from sklearn.model_selection import cross_val_score\n",
    "from sklearn.feature_extraction.text import TfidfVectorizer\n",
    "from sklearn.feature_extraction.text import CountVectorizer\n",
    "from sklearn.svm import SVC\n",
    "from sklearn.preprocessing import StandardScaler\n",
    "from sklearn.linear_model import LogisticRegression\n",
    "from sklearn.naive_bayes import GaussianNB\n",
    "from sklearn.naive_bayes import MultinomialNB\n",
    "from sklearn.pipeline import make_pipeline"
   ]
  },
  {
   "cell_type": "code",
   "execution_count": 2,
   "metadata": {},
   "outputs": [],
   "source": [
    "file_name='IMDB Dataset.csv'\n",
    "seperator = ','\n",
    "X_clm_name='review'\n",
    "y_clm_name='sentiment'"
   ]
  },
  {
   "cell_type": "code",
   "execution_count": 3,
   "metadata": {},
   "outputs": [],
   "source": [
    "max_features = 4000\n",
    "ngram_range = (1,3)\n",
    "stopwords = None\n",
    "random_seed = 123"
   ]
  },
  {
   "cell_type": "code",
   "execution_count": 4,
   "metadata": {},
   "outputs": [
    {
     "data": {
      "text/html": [
       "<div>\n",
       "<style scoped>\n",
       "    .dataframe tbody tr th:only-of-type {\n",
       "        vertical-align: middle;\n",
       "    }\n",
       "\n",
       "    .dataframe tbody tr th {\n",
       "        vertical-align: top;\n",
       "    }\n",
       "\n",
       "    .dataframe thead th {\n",
       "        text-align: right;\n",
       "    }\n",
       "</style>\n",
       "<table border=\"1\" class=\"dataframe\">\n",
       "  <thead>\n",
       "    <tr style=\"text-align: right;\">\n",
       "      <th></th>\n",
       "      <th>review</th>\n",
       "      <th>sentiment</th>\n",
       "    </tr>\n",
       "  </thead>\n",
       "  <tbody>\n",
       "    <tr>\n",
       "      <td>0</td>\n",
       "      <td>One of the other reviewers has mentioned that ...</td>\n",
       "      <td>positive</td>\n",
       "    </tr>\n",
       "    <tr>\n",
       "      <td>1</td>\n",
       "      <td>A wonderful little production. &lt;br /&gt;&lt;br /&gt;The...</td>\n",
       "      <td>positive</td>\n",
       "    </tr>\n",
       "    <tr>\n",
       "      <td>2</td>\n",
       "      <td>I thought this was a wonderful way to spend ti...</td>\n",
       "      <td>positive</td>\n",
       "    </tr>\n",
       "    <tr>\n",
       "      <td>3</td>\n",
       "      <td>Basically there's a family where a little boy ...</td>\n",
       "      <td>negative</td>\n",
       "    </tr>\n",
       "    <tr>\n",
       "      <td>4</td>\n",
       "      <td>Petter Mattei's \"Love in the Time of Money\" is...</td>\n",
       "      <td>positive</td>\n",
       "    </tr>\n",
       "  </tbody>\n",
       "</table>\n",
       "</div>"
      ],
      "text/plain": [
       "                                              review sentiment\n",
       "0  One of the other reviewers has mentioned that ...  positive\n",
       "1  A wonderful little production. <br /><br />The...  positive\n",
       "2  I thought this was a wonderful way to spend ti...  positive\n",
       "3  Basically there's a family where a little boy ...  negative\n",
       "4  Petter Mattei's \"Love in the Time of Money\" is...  positive"
      ]
     },
     "execution_count": 4,
     "metadata": {},
     "output_type": "execute_result"
    }
   ],
   "source": [
    "df = pd.read_csv(file_name, sep=seperator)\n",
    "df = df[df[X_clm_name] != \"none\"]\n",
    "df = df[df[X_clm_name] != \"\"]\n",
    "df = df[df[X_clm_name].notna()]\n",
    "df = df[df[y_clm_name] != \"none\"]\n",
    "df = df[df[y_clm_name] != \"\"]\n",
    "df = df[df[y_clm_name].notna()]\n",
    "df.head()"
   ]
  },
  {
   "cell_type": "code",
   "execution_count": 5,
   "metadata": {},
   "outputs": [],
   "source": [
    "#df = df[df[X_clm_name].str.len() > 200]"
   ]
  },
  {
   "cell_type": "code",
   "execution_count": 6,
   "metadata": {},
   "outputs": [],
   "source": [
    "df[y_clm_name] = df.apply(lambda row: 1 \n",
    "                           if row[y_clm_name] == \"positive\" \n",
    "                           else 0, axis=1\n",
    "                          )"
   ]
  },
  {
   "cell_type": "code",
   "execution_count": 7,
   "metadata": {},
   "outputs": [
    {
     "data": {
      "text/plain": [
       "25000"
      ]
     },
     "execution_count": 7,
     "metadata": {},
     "output_type": "execute_result"
    }
   ],
   "source": [
    "positives = df[df[y_clm_name] == 1]\n",
    "positives.count()[0]"
   ]
  },
  {
   "cell_type": "code",
   "execution_count": 8,
   "metadata": {},
   "outputs": [
    {
     "data": {
      "text/plain": [
       "25000"
      ]
     },
     "execution_count": 8,
     "metadata": {},
     "output_type": "execute_result"
    }
   ],
   "source": [
    "negatives = df[df[y_clm_name] == 0]\n",
    "negatives.count()[0]"
   ]
  },
  {
   "cell_type": "code",
   "execution_count": 9,
   "metadata": {},
   "outputs": [
    {
     "data": {
      "text/plain": [
       "25000"
      ]
     },
     "execution_count": 9,
     "metadata": {},
     "output_type": "execute_result"
    }
   ],
   "source": [
    "n_samples = (negatives.count()[0] \n",
    "             if negatives.count()[0] < positives.count()[0] \n",
    "             else positives.count()[0]\n",
    "            )\n",
    "n_samples"
   ]
  },
  {
   "cell_type": "code",
   "execution_count": 10,
   "metadata": {},
   "outputs": [
    {
     "data": {
      "text/plain": [
       "25000"
      ]
     },
     "execution_count": 10,
     "metadata": {},
     "output_type": "execute_result"
    }
   ],
   "source": [
    "positives = resample(positives, n_samples=n_samples, random_state=random_seed)\n",
    "positives.count()[0]"
   ]
  },
  {
   "cell_type": "code",
   "execution_count": 11,
   "metadata": {},
   "outputs": [
    {
     "data": {
      "text/plain": [
       "25000"
      ]
     },
     "execution_count": 11,
     "metadata": {},
     "output_type": "execute_result"
    }
   ],
   "source": [
    "negatives = resample(negatives, n_samples=n_samples, random_state=random_seed)\n",
    "negatives.count()[0]"
   ]
  },
  {
   "cell_type": "code",
   "execution_count": 12,
   "metadata": {},
   "outputs": [
    {
     "data": {
      "text/plain": [
       "50000"
      ]
     },
     "execution_count": 12,
     "metadata": {},
     "output_type": "execute_result"
    }
   ],
   "source": [
    "df = negatives.append(positives)\n",
    "df.count()[0]"
   ]
  },
  {
   "cell_type": "code",
   "execution_count": 13,
   "metadata": {},
   "outputs": [],
   "source": [
    "kf = KFold(n_splits=10, shuffle=True, random_state=random_seed)\n",
    "y = df[y_clm_name]\n",
    "X_raw = df[X_clm_name]\n",
    "def do_cross_val(model, X):\n",
    "    acc_score = cross_val_score(\n",
    "        model, \n",
    "        X, \n",
    "        y, \n",
    "        cv=kf, \n",
    "        scoring='accuracy'\n",
    "    )\n",
    "    #print('Accuracies:')\n",
    "    #print(acc_score)\n",
    "    print('Mean accuracy:')\n",
    "    print(np.mean(acc_score))"
   ]
  },
  {
   "cell_type": "code",
   "execution_count": 14,
   "metadata": {},
   "outputs": [
    {
     "name": "stdout",
     "output_type": "stream",
     "text": [
      "time taken: 42.87467551231384 seconds\n"
     ]
    }
   ],
   "source": [
    "tfidf = TfidfVectorizer(\n",
    "    lowercase=True, \n",
    "    stop_words=stopwords, \n",
    "    ngram_range=ngram_range,\n",
    "    max_features=max_features\n",
    ")\n",
    "\n",
    "start_time = time.time()\n",
    "\n",
    "X_tfidf = tfidf.fit_transform(X_raw)\n",
    "\n",
    "run_time = (time.time() - start_time)\n",
    "print(f'time taken: {run_time} seconds')"
   ]
  },
  {
   "cell_type": "code",
   "execution_count": 15,
   "metadata": {},
   "outputs": [
    {
     "name": "stdout",
     "output_type": "stream",
     "text": [
      "time taken: 44.45105457305908 seconds\n"
     ]
    }
   ],
   "source": [
    "cv = CountVectorizer(\n",
    "    lowercase=True, \n",
    "    stop_words=stopwords, \n",
    "    ngram_range=ngram_range,\n",
    "    max_features=max_features\n",
    ")\n",
    "start_time = time.time()\n",
    "\n",
    "X_cv = cv.fit_transform(X_raw)\n",
    "\n",
    "run_time = (time.time() - start_time)\n",
    "print(f'time taken: {run_time} seconds')"
   ]
  },
  {
   "cell_type": "code",
   "execution_count": 16,
   "metadata": {},
   "outputs": [],
   "source": [
    "def do_cross_val_with_each_X(model):\n",
    "    start_time = time.time()\n",
    "    print(\"cv\")\n",
    "    do_cross_val(model, X_cv)\n",
    "    run_time = (time.time() - start_time)\n",
    "    print(f'time taken: {run_time} seconds')\n",
    "    \n",
    "    start_time = time.time()\n",
    "    print(\"tfidf\")\n",
    "    do_cross_val(model, X_tfidf)\n",
    "    run_time = (time.time() - start_time)\n",
    "    print(f'time taken: {run_time} seconds\\n')"
   ]
  },
  {
   "cell_type": "code",
   "execution_count": 17,
   "metadata": {},
   "outputs": [
    {
     "name": "stdout",
     "output_type": "stream",
     "text": [
      "cv\n",
      "Mean accuracy:\n",
      "0.9078000000000002\n",
      "time taken: 76.57788896560669 seconds\n",
      "tfidf\n",
      "Mean accuracy:\n",
      "0.9082000000000001\n",
      "time taken: 62.09014439582825 seconds\n",
      "\n"
     ]
    }
   ],
   "source": [
    "lr = make_pipeline(\n",
    "    StandardScaler(with_mean=False), \n",
    "    LogisticRegression(random_state=random_seed, solver='liblinear', C=1))\n",
    "do_cross_val_with_each_X(lr)"
   ]
  },
  {
   "cell_type": "code",
   "execution_count": 18,
   "metadata": {},
   "outputs": [
    {
     "name": "stdout",
     "output_type": "stream",
     "text": [
      "cv\n",
      "Mean accuracy:\n",
      "0.83614\n",
      "time taken: 0.6870071887969971 seconds\n",
      "tfidf\n",
      "Mean accuracy:\n",
      "0.8577200000000001\n",
      "time taken: 0.5938243865966797 seconds\n",
      "\n"
     ]
    }
   ],
   "source": [
    "mnb = MultinomialNB()\n",
    "do_cross_val_with_each_X(mnb)"
   ]
  },
  {
   "cell_type": "code",
   "execution_count": null,
   "metadata": {},
   "outputs": [],
   "source": []
  }
 ],
 "metadata": {
  "kernelspec": {
   "display_name": "Python 3",
   "language": "python",
   "name": "python3"
  },
  "language_info": {
   "codemirror_mode": {
    "name": "ipython",
    "version": 3
   },
   "file_extension": ".py",
   "mimetype": "text/x-python",
   "name": "python",
   "nbconvert_exporter": "python",
   "pygments_lexer": "ipython3",
   "version": "3.6.8"
  }
 },
 "nbformat": 4,
 "nbformat_minor": 2
}
